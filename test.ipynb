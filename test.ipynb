{
 "cells": [
  {
   "cell_type": "code",
   "execution_count": null,
   "metadata": {},
   "outputs": [],
   "source": [
    "from typing import List\n",
    "from collections import deque\n",
    "import collections\n",
    "from functools import lru_cache\n",
    "import copy\n",
    "\n",
    "class Solution:\n",
    "    def longestUnivaluePath(self, root: TreeNode) -> int:\n",
    "        self.ans = 0\n",
    "\n",
    "        def arrow_length(node):\n",
    "            if not node: return 0\n",
    "            left_length = arrow_length(node.left)\n",
    "            right_length = arrow_length(node.right)\n",
    "            left_arrow = right_arrow = 0\n",
    "            if node.left and node.left.val == node.val:\n",
    "                left_arrow = left_length + 1\n",
    "            if node.right and node.right.val == node.val:\n",
    "                right_arrow = right_length + 1\n",
    "            self.ans = max(self.ans, left_arrow + right_arrow)\n",
    "            return max(left_arrow, right_arrow)\n",
    "\n",
    "        arrow_length(root)\n",
    "        return self.ans\n",
    "\n",
    "\n",
    "test = 8\n",
    "\n",
    "solution = Solution()\n",
    "ans = solution.solveNQueens(test)\n",
    "for i in ans:\n",
    "    for j in i:\n",
    "        print(j)\n",
    "    print(\"\\n\")"
   ]
  }
 ],
 "metadata": {
  "interpreter": {
   "hash": "da3baeefc63dd2b5a45121a4a8d592321b6521653744db7f981e38554682dd0f"
  },
  "kernelspec": {
   "display_name": "Python 3.7.10 64-bit ('py37': conda)",
   "language": "python",
   "name": "python3"
  },
  "language_info": {
   "codemirror_mode": {
    "name": "ipython",
    "version": 3
   },
   "file_extension": ".py",
   "mimetype": "text/x-python",
   "name": "python",
   "nbconvert_exporter": "python",
   "pygments_lexer": "ipython3",
   "version": "3.7.7"
  },
  "orig_nbformat": 4
 },
 "nbformat": 4,
 "nbformat_minor": 2
}
