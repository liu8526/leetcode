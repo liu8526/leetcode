{
 "cells": [
  {
   "cell_type": "code",
   "execution_count": 107,
   "metadata": {},
   "outputs": [],
   "source": [
    "from typing import List\n",
    "from collections import deque\n",
    "import collections\n",
    "from functools import lru_cache\n",
    "from copy import copy\n",
    "\n",
    "class Solution:\n",
    "    def countMaxOrSubsets(self, nums: List[int]) -> int:\n",
    "        tmp = collections.deque()\n",
    "        maxset = collections.deque()\n",
    "        maxval = float(\"-inf\")\n",
    "\n",
    "        def check(tmp):\n",
    "            ORval = tmp[0]\n",
    "            nonlocal  maxval\n",
    "            for j in range(len(tmp)-1):\n",
    "                ORval = ORval | tmp[j+1]\n",
    "            if ORval > maxval:\n",
    "                maxval = ORval\n",
    "                maxset.clear()\n",
    "                maxset.append(tmp)\n",
    "            elif ORval == maxval:\n",
    "                maxset.append(tmp)\n",
    "\n",
    "        def dfs(first):\n",
    "            if first==len(nums):\n",
    "                return\n",
    "            for i in range(first, len(nums)):\n",
    "                tmp.append(nums[i])\n",
    "                check(tmp)\n",
    "                dfs(i + 1)\n",
    "                tmp.pop()\n",
    "\n",
    "        dfs(0)\n",
    "        return len(maxset)\n",
    "\n",
    "\n",
    "test = [3,1,4,6,78,4,2,4,5,7,4,1,4,6,78,4,2,4,5,7,4,1,4,6,78,4,2,4,5,7,4,1,4,6,78,4,2,4,5,7,4,1,4,6,78,4,2,4,5,7,4,1,4,6,78,4,2,4,5,7,4]\n",
    "\n",
    "solution = Solution()\n",
    "solution.countMaxOrSubsets(test)"
   ]
  }
 ],
 "metadata": {
  "interpreter": {
   "hash": "da3baeefc63dd2b5a45121a4a8d592321b6521653744db7f981e38554682dd0f"
  },
  "kernelspec": {
   "display_name": "Python 3.7.10 64-bit ('py37': conda)",
   "language": "python",
   "name": "python3"
  },
  "language_info": {
   "codemirror_mode": {
    "name": "ipython",
    "version": 3
   },
   "file_extension": ".py",
   "mimetype": "text/x-python",
   "name": "python",
   "nbconvert_exporter": "python",
   "pygments_lexer": "ipython3",
   "version": "3.7.7"
  },
  "orig_nbformat": 4
 },
 "nbformat": 4,
 "nbformat_minor": 2
}
